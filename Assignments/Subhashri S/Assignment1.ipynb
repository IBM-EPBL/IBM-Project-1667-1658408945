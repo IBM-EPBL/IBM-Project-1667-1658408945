{
 "cells": [
  {
   "cell_type": "markdown",
   "id": "d858022c",
   "metadata": {},
   "source": [
    "# BASIC PYTHON"
   ]
  },
  {
   "cell_type": "markdown",
   "id": "af9d3517",
   "metadata": {},
   "source": [
    "1.Split the string"
   ]
  },
  {
   "cell_type": "code",
   "execution_count": 1,
   "id": "426d5f29",
   "metadata": {},
   "outputs": [
    {
     "name": "stdout",
     "output_type": "stream",
     "text": [
      "['Hi', 'there', 'Sam!']\n"
     ]
    }
   ],
   "source": [
    "s=\"Hi there Sam!\"\n",
    "print(s.split())"
   ]
  },
  {
   "cell_type": "markdown",
   "id": "0fa29a41",
   "metadata": {},
   "source": [
    "2.Use.format() to print the following string"
   ]
  },
  {
   "cell_type": "markdown",
   "id": "d16594f3",
   "metadata": {},
   "source": [
    "Output should be:The diameter of Earth is 12742 kilometers"
   ]
  },
  {
   "cell_type": "code",
   "execution_count": 2,
   "id": "7e631a3a",
   "metadata": {},
   "outputs": [
    {
     "name": "stdout",
     "output_type": "stream",
     "text": [
      "The diameter of Earth is 12742 kilometers.\n"
     ]
    }
   ],
   "source": [
    "print(\"The diameter of {planet} is {diameter} kilometers.\".format(planet='Earth',diameter='12742'))"
   ]
  },
  {
   "cell_type": "markdown",
   "id": "0f41dc0f",
   "metadata": {},
   "source": [
    "In the Nest dictionary grab the word \"hello\""
   ]
  },
  {
   "cell_type": "code",
   "execution_count": 3,
   "id": "2b287926",
   "metadata": {},
   "outputs": [
    {
     "name": "stdout",
     "output_type": "stream",
     "text": [
      "hello\n"
     ]
    }
   ],
   "source": [
    "dict = {'k1':[1,2,3,{'tricky':['oh','man','inception',{'target':[1,2,3,'hello']}]}]}\n",
    "print(dict['k1'][3]['tricky'][3]['target'][3])"
   ]
  },
  {
   "cell_type": "markdown",
   "id": "f921933c",
   "metadata": {},
   "source": [
    "NUMPY"
   ]
  },
  {
   "cell_type": "markdown",
   "id": "4e6194ce",
   "metadata": {},
   "source": [
    "4.1 Create an array of 10 Zeros?\n",
    "4.2 Create an array of 10 fives?"
   ]
  },
  {
   "cell_type": "code",
   "execution_count": 19,
   "id": "305ccd24",
   "metadata": {},
   "outputs": [],
   "source": [
    "import numpy as np"
   ]
  },
  {
   "cell_type": "code",
   "execution_count": 6,
   "id": "6ebe55e9",
   "metadata": {},
   "outputs": [
    {
     "name": "stdout",
     "output_type": "stream",
     "text": [
      "An array of 10 Zeros :  [0. 0. 0. 0. 0. 0. 0. 0. 0. 0.]\n"
     ]
    }
   ],
   "source": [
    "#4.1\n",
    "array=np.zeros(10)\n",
    "print(\"An array of 10 Zeros : \",array)"
   ]
  },
  {
   "cell_type": "code",
   "execution_count": 10,
   "id": "c62c9953",
   "metadata": {},
   "outputs": [
    {
     "name": "stdout",
     "output_type": "stream",
     "text": [
      "An array of 10 Fives :  [5. 5. 5. 5. 5. 5. 5. 5. 5. 5.]\n"
     ]
    }
   ],
   "source": [
    "#4.2\n",
    "array=np.ones(10)*5\n",
    "print(\"An array of 10 Fives : \",array)"
   ]
  },
  {
   "cell_type": "markdown",
   "id": "565f23c8",
   "metadata": {},
   "source": [
    "5.Create an array of all the even intergers from 20 to 35?"
   ]
  },
  {
   "cell_type": "code",
   "execution_count": 13,
   "id": "6b1d8b2d",
   "metadata": {},
   "outputs": [
    {
     "name": "stdout",
     "output_type": "stream",
     "text": [
      "An array of all the even intergers from 20 to 35 : [20 22 24 26 28 30 32 34]\n"
     ]
    }
   ],
   "source": [
    "array=np.arange(20,36,2)\n",
    "print(\"An array of all the even intergers from 20 to 35 :\",array)"
   ]
  },
  {
   "cell_type": "markdown",
   "id": "c21a7ef2",
   "metadata": {},
   "source": [
    "6.Create a 3x3 matrix with values ranging from 0 to 8?"
   ]
  },
  {
   "cell_type": "code",
   "execution_count": 15,
   "id": "e8e668df",
   "metadata": {},
   "outputs": [
    {
     "name": "stdout",
     "output_type": "stream",
     "text": [
      "[[0 1 2]\n",
      " [3 4 5]\n",
      " [6 7 8]]\n"
     ]
    }
   ],
   "source": [
    "matrix=np.arange(0,9).reshape(3,3)\n",
    "print(matrix)"
   ]
  },
  {
   "cell_type": "markdown",
   "id": "a4913bfa",
   "metadata": {},
   "source": [
    "7.Concatenate a and b\n",
    "a=np.array([1,2,3]) , b=np.array([4,5,6])"
   ]
  },
  {
   "cell_type": "code",
   "execution_count": 23,
   "id": "326d374e",
   "metadata": {},
   "outputs": [
    {
     "name": "stdout",
     "output_type": "stream",
     "text": [
      "[1 2 3 4 5 6]\n"
     ]
    }
   ],
   "source": [
    "a=np.array([1,2,3]) \n",
    "b=np.array([4,5,6])\n",
    "print(np.concatenate((a,b)))\n"
   ]
  },
  {
   "cell_type": "markdown",
   "id": "5abac6a1",
   "metadata": {},
   "source": [
    "8.Create a dataframe with 3 rows and 2 columns"
   ]
  },
  {
   "cell_type": "code",
   "execution_count": 24,
   "id": "15865999",
   "metadata": {},
   "outputs": [],
   "source": [
    "import pandas as pd\n"
   ]
  },
  {
   "cell_type": "code",
   "execution_count": 28,
   "id": "4a16a87a",
   "metadata": {},
   "outputs": [
    {
     "name": "stdout",
     "output_type": "stream",
     "text": [
      "   a  b\n",
      "1  5  3\n",
      "2  8  5\n",
      "3  0  9\n"
     ]
    }
   ],
   "source": [
    "r=[1,2,3]\n",
    "c=['a','b']\n",
    "data=np.random.randint(10,size=(3,2))\n",
    "df=pd.DataFrame(data,index=r,columns=c)\n",
    "print(df)"
   ]
  },
  {
   "cell_type": "markdown",
   "id": "2699854a",
   "metadata": {},
   "source": [
    "9.Generate the series of dates from 1st Jan 2023 to 10th Feb 2023"
   ]
  },
  {
   "cell_type": "code",
   "execution_count": 29,
   "id": "72480a3e",
   "metadata": {},
   "outputs": [
    {
     "data": {
      "text/plain": [
       "DatetimeIndex(['2023-01-01', '2023-01-02', '2023-01-03', '2023-01-04',\n",
       "               '2023-01-05', '2023-01-06', '2023-01-07', '2023-01-08',\n",
       "               '2023-01-09', '2023-01-10', '2023-01-11', '2023-01-12',\n",
       "               '2023-01-13', '2023-01-14', '2023-01-15', '2023-01-16',\n",
       "               '2023-01-17', '2023-01-18', '2023-01-19', '2023-01-20',\n",
       "               '2023-01-21', '2023-01-22', '2023-01-23', '2023-01-24',\n",
       "               '2023-01-25', '2023-01-26', '2023-01-27', '2023-01-28',\n",
       "               '2023-01-29', '2023-01-30', '2023-01-31', '2023-02-01',\n",
       "               '2023-02-02', '2023-02-03', '2023-02-04', '2023-02-05',\n",
       "               '2023-02-06', '2023-02-07', '2023-02-08', '2023-02-09',\n",
       "               '2023-02-10'],\n",
       "              dtype='datetime64[ns]', freq='D')"
      ]
     },
     "execution_count": 29,
     "metadata": {},
     "output_type": "execute_result"
    }
   ],
   "source": [
    "pd.date_range(start=\"2023-01-01\",end=\"2023-02-10\")"
   ]
  },
  {
   "cell_type": "markdown",
   "id": "a79ddb33",
   "metadata": {},
   "source": [
    "10.Create 2D list to DataFrame?"
   ]
  },
  {
   "cell_type": "code",
   "execution_count": 30,
   "id": "2f0667a9",
   "metadata": {},
   "outputs": [
    {
     "name": "stdout",
     "output_type": "stream",
     "text": [
      "   Token   ID  value\n",
      "0      1  aaa     22\n",
      "1      2  bbb     25\n",
      "2      3  ccc     24\n"
     ]
    }
   ],
   "source": [
    "lists = [[1,'aaa', 22], [2,'bbb', 25], [3,'ccc', 24]] \n",
    "df = pd.DataFrame(lists, columns =['Token', 'ID','value']) \n",
    "print(df )"
   ]
  },
  {
   "cell_type": "code",
   "execution_count": null,
   "id": "a79fa2f1",
   "metadata": {},
   "outputs": [],
   "source": []
  }
 ],
 "metadata": {
  "kernelspec": {
   "display_name": "Python 3 (ipykernel)",
   "language": "python",
   "name": "python3"
  },
  "language_info": {
   "codemirror_mode": {
    "name": "ipython",
    "version": 3
   },
   "file_extension": ".py",
   "mimetype": "text/x-python",
   "name": "python",
   "nbconvert_exporter": "python",
   "pygments_lexer": "ipython3",
   "version": "3.9.12"
  }
 },
 "nbformat": 4,
 "nbformat_minor": 5
}
