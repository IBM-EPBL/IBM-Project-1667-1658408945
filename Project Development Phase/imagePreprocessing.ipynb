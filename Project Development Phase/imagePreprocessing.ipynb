{
 "cells": [
  {
   "cell_type": "code",
   "execution_count": 4,
   "id": "778643cd",
   "metadata": {},
   "outputs": [],
   "source": [
    "from sklearn.ensemble import RandomForestClassifier\n",
    "from sklearn.preprocessing import LabelEncoder\n",
    "from sklearn.metrics import confusion_matrix\n",
    "from skimage import feature\n",
    "from imutils import build_montages\n",
    "from imutils import paths\n",
    "import numpy as np\n",
    "import cv2\n",
    "import os\n",
    "import pickle"
   ]
  },
  {
   "cell_type": "code",
   "execution_count": 11,
   "id": "88dd5848",
   "metadata": {},
   "outputs": [],
   "source": [
    "def load_split(path):\n",
    "    imagePaths=list(paths.list_images(path))\n",
    "    data=[]\n",
    "    labels=[]\n",
    "    for imagePath in imagePaths:\n",
    "        label=imagePath.split(os.path.sep)[-2]\n",
    "        image=cv2.imread(imagePath)\n",
    "        image=cv2.cvtColor(image,cv2.COLOR_BGR2GRAY)\n",
    "        image=cv2.resize(image,(200,200))\n",
    "        image=cv2.threshold(image,0,255,\n",
    "                           cv2.THRESH_BINARY_INV|cv2.THRESH_OTSU)[1]\n",
    "        features=quantify_image(image)\n",
    "        data.append(features)\n",
    "        labels.append(label)\n",
    "        return (np.array(data),np.array(labels))"
   ]
  },
  {
   "cell_type": "code",
   "execution_count": 18,
   "id": "327323b1",
   "metadata": {},
   "outputs": [
    {
     "name": "stdout",
     "output_type": "stream",
     "text": [
      "[INFO] loading data...\n"
     ]
    }
   ],
   "source": [
    "#Spiral\n",
    "trainingPath = r\"C:\\Users\\Elitebook 830 G8\\Desktop\\Parkinson\\spiral\\training\"\n",
    "testingPath = r\"C:\\Users\\Elitebook 830 G8\\Desktop\\Parkinson\\spiral\\testing\"\n",
    "\n",
    "print(\"[INFO] loading data...\")\n",
    "(X_train, y_train) = load_split(trainingPath)\n",
    "(X_test, y_test) = load_split(testingPath)"
   ]
  },
  {
   "cell_type": "code",
   "execution_count": 19,
   "id": "4ae30484",
   "metadata": {},
   "outputs": [
    {
     "name": "stdout",
     "output_type": "stream",
     "text": [
      "[INFO] loading data...\n"
     ]
    }
   ],
   "source": [
    "#Wave\n",
    "trainingPath = r\"C:\\Users\\Elitebook 830 G8\\Desktop\\Parkinson\\wave\\training\"\n",
    "testingPath = r\"C:\\Users\\Elitebook 830 G8\\Desktop\\Parkinson\\wave\\testing\"\n",
    "\n",
    "print(\"[INFO] loading data...\")\n",
    "(X_train, y_train) = load_split(trainingPath)\n",
    "(X_test, y_test) = load_split(testingPath)"
   ]
  },
  {
   "cell_type": "code",
   "execution_count": 16,
   "id": "bac0dd3a",
   "metadata": {},
   "outputs": [],
   "source": [
    "def quantify_image(image):\n",
    "    features = feature.hog(image, orientations = 9,\n",
    "                          pixels_per_cell = (10,10), cells_per_block = (2,2),\n",
    "                          transform_sqrt = True, block_norm = 'L1')\n",
    "    return features"
   ]
  },
  {
   "cell_type": "code",
   "execution_count": 20,
   "id": "1f52ef6f",
   "metadata": {},
   "outputs": [
    {
     "name": "stdout",
     "output_type": "stream",
     "text": [
      "(1, 12996) (1,)\n"
     ]
    }
   ],
   "source": [
    "le = LabelEncoder()\n",
    "y_train = le.fit_transform(y_train)\n",
    "y_test = le.fit_transform(y_test)\n",
    "print(X_train.shape, y_train.shape)"
   ]
  },
  {
   "cell_type": "code",
   "execution_count": null,
   "id": "0a394751",
   "metadata": {},
   "outputs": [],
   "source": []
  }
 ],
 "metadata": {
  "kernelspec": {
   "display_name": "Python 3 (ipykernel)",
   "language": "python",
   "name": "python3"
  },
  "language_info": {
   "codemirror_mode": {
    "name": "ipython",
    "version": 3
   },
   "file_extension": ".py",
   "mimetype": "text/x-python",
   "name": "python",
   "nbconvert_exporter": "python",
   "pygments_lexer": "ipython3",
   "version": "3.9.12"
  }
 },
 "nbformat": 4,
 "nbformat_minor": 5
}
